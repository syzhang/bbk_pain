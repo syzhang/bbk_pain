{
 "cells": [
  {
   "cell_type": "markdown",
   "id": "certain-cartoon",
   "metadata": {},
   "source": [
    "### dev control group"
   ]
  },
  {
   "cell_type": "code",
   "execution_count": 1,
   "id": "sunset-average",
   "metadata": {},
   "outputs": [],
   "source": [
    "import os\n",
    "import numpy as np\n",
    "import pandas as pd"
   ]
  },
  {
   "cell_type": "code",
   "execution_count": 2,
   "id": "relevant-carter",
   "metadata": {},
   "outputs": [],
   "source": [
    "from clean_questions import *"
   ]
  },
  {
   "cell_type": "markdown",
   "id": "449f3601-6c15-498b-a7f3-0dfd1c7b66fe",
   "metadata": {},
   "source": [
    "#### make qsidp for painquestion"
   ]
  },
  {
   "cell_type": "markdown",
   "id": "3bd9dbfd-8a40-40d4-91ce-80c4c9d33a36",
   "metadata": {},
   "source": [
    "Extracting questionnaire and idp from uk_biobank director and save to a csv, download and move to bmrc for classifier."
   ]
  },
  {
   "cell_type": "code",
   "execution_count": 5,
   "id": "bd37a4d5-0f01-4c79-ae90-28fec2bd3057",
   "metadata": {},
   "outputs": [],
   "source": [
    "data_dir = '/vols/Data/pain/asdahl/uk_biobank/suyi_extend/pain_questionnaire'"
   ]
  },
  {
   "cell_type": "code",
   "execution_count": 4,
   "id": "c96397e5-a3a3-42ad-940d-ab16fb91e542",
   "metadata": {},
   "outputs": [
    {
     "name": "stderr",
     "output_type": "stream",
     "text": [
      "/home/fs0/syzhang/.conda/envs/bbk/lib/python3.8/site-packages/IPython/core/interactiveshell.py:3165: DtypeWarning: Columns (863,869) have mixed types.Specify dtype option on import or set low_memory=False.\n",
      "  has_raised = await self.run_ast_nodes(code_ast.body, cell_name,\n"
     ]
    }
   ],
   "source": [
    "idp_path = os.path.join(data_dir, 'qsidp_subjs_control_allvisits_extended.tsv')\n",
    "df_idp = pd.read_csv(idp_path, sep='\\t')"
   ]
  },
  {
   "cell_type": "code",
   "execution_count": 7,
   "id": "82916525-9b5b-4486-aa68-3ff9c7cd7ee0",
   "metadata": {},
   "outputs": [
    {
     "data": {
      "text/plain": [
       "(26490, 2861)"
      ]
     },
     "execution_count": 7,
     "metadata": {},
     "output_type": "execute_result"
    }
   ],
   "source": [
    "df_idp.shape"
   ]
  },
  {
   "cell_type": "code",
   "execution_count": 8,
   "id": "c16d9396-dc89-4be2-82a3-b5697e11d3a8",
   "metadata": {},
   "outputs": [],
   "source": [
    "df_bmrc = pd.read_csv('./subjs_bmrc/label_painquestion.csv')"
   ]
  },
  {
   "cell_type": "code",
   "execution_count": 10,
   "id": "a0cff537-3791-4d34-99ec-8e12153868f1",
   "metadata": {},
   "outputs": [
    {
     "data": {
      "text/plain": [
       "(10837, 2)"
      ]
     },
     "execution_count": 10,
     "metadata": {},
     "output_type": "execute_result"
    }
   ],
   "source": [
    "df_bmrc.shape"
   ]
  },
  {
   "cell_type": "code",
   "execution_count": 11,
   "id": "ea945b86-a373-4cfc-960f-1db0d67d26fa",
   "metadata": {},
   "outputs": [],
   "source": [
    "df_qsidp_filtered = df_idp[df_idp['eid'].isin(df_bmrc['eid'])]"
   ]
  },
  {
   "cell_type": "code",
   "execution_count": 12,
   "id": "29cfce52-de78-4e60-8200-97a50e4000d0",
   "metadata": {},
   "outputs": [
    {
     "data": {
      "text/plain": [
       "(10837, 2861)"
      ]
     },
     "execution_count": 12,
     "metadata": {},
     "output_type": "execute_result"
    }
   ],
   "source": [
    "df_qsidp_filtered.shape"
   ]
  },
  {
   "cell_type": "code",
   "execution_count": 13,
   "id": "6d3528c6-c81f-48da-ba6e-f0394641b075",
   "metadata": {},
   "outputs": [],
   "source": [
    "df_q_f_d = df_qsidp_filtered.drop_duplicates(subset=['eid'])"
   ]
  },
  {
   "cell_type": "code",
   "execution_count": 14,
   "id": "9f82af3e-a6f1-41fd-b457-7f1fae663853",
   "metadata": {},
   "outputs": [
    {
     "data": {
      "text/plain": [
       "(10837, 2861)"
      ]
     },
     "execution_count": 14,
     "metadata": {},
     "output_type": "execute_result"
    }
   ],
   "source": [
    "df_q_f_d.shape"
   ]
  },
  {
   "cell_type": "code",
   "execution_count": 15,
   "id": "ef3aa769-a6fe-4e18-9b04-00b1b77aeda7",
   "metadata": {},
   "outputs": [],
   "source": [
    "df_q_f_d.to_csv('./data/qsidp_painquestion.csv',index=None)"
   ]
  },
  {
   "cell_type": "markdown",
   "id": "ae89dace-6ef0-4740-a02d-e09974243e82",
   "metadata": {},
   "source": [
    "#### make qsidp for paincontrol"
   ]
  },
  {
   "cell_type": "code",
   "execution_count": 3,
   "id": "e818af85-f914-4d07-b6a3-23b3e5cff017",
   "metadata": {},
   "outputs": [
    {
     "name": "stderr",
     "output_type": "stream",
     "text": [
      "/home/fs0/syzhang/.conda/envs/bbk/lib/python3.8/site-packages/IPython/core/interactiveshell.py:3165: DtypeWarning: Columns (863,867) have mixed types.Specify dtype option on import or set low_memory=False.\n",
      "  has_raised = await self.run_ast_nodes(code_ast.body, cell_name,\n"
     ]
    }
   ],
   "source": [
    "df_disease = pd.read_csv('./data/qsidp_patients_pain.csv')"
   ]
  },
  {
   "cell_type": "code",
   "execution_count": 12,
   "id": "357a63cc-6c7f-476e-9df3-fd8750af71e1",
   "metadata": {},
   "outputs": [
    {
     "data": {
      "text/plain": [
       "(3363, 2861)"
      ]
     },
     "execution_count": 12,
     "metadata": {},
     "output_type": "execute_result"
    }
   ],
   "source": [
    "df_disease.shape"
   ]
  },
  {
   "cell_type": "code",
   "execution_count": 4,
   "id": "51fbb01b-0724-4d0f-b110-7c1488606798",
   "metadata": {},
   "outputs": [
    {
     "name": "stderr",
     "output_type": "stream",
     "text": [
      "/home/fs0/syzhang/.conda/envs/bbk/lib/python3.8/site-packages/IPython/core/interactiveshell.py:3165: DtypeWarning: Columns (863) have mixed types.Specify dtype option on import or set low_memory=False.\n",
      "  has_raised = await self.run_ast_nodes(code_ast.body, cell_name,\n"
     ]
    }
   ],
   "source": [
    "df_control = pd.read_csv('./data/qsidp_pain_minus.csv')"
   ]
  },
  {
   "cell_type": "code",
   "execution_count": 9,
   "id": "549c1025-ba24-4cf9-8fd5-5ee89e28cc24",
   "metadata": {},
   "outputs": [
    {
     "data": {
      "text/plain": [
       "(26328, 2861)"
      ]
     },
     "execution_count": 9,
     "metadata": {},
     "output_type": "execute_result"
    }
   ],
   "source": [
    "df_control.shape"
   ]
  },
  {
   "cell_type": "code",
   "execution_count": 10,
   "id": "64afce77-6bbc-419a-b7ea-b7f8ec3bd297",
   "metadata": {},
   "outputs": [],
   "source": [
    "df_qsidp = pd.concat([df_disease, df_control], axis=0)"
   ]
  },
  {
   "cell_type": "code",
   "execution_count": 11,
   "id": "072bdf69-3e72-41cd-9bee-39ef8fa2dff6",
   "metadata": {},
   "outputs": [
    {
     "data": {
      "text/plain": [
       "(29691, 2861)"
      ]
     },
     "execution_count": 11,
     "metadata": {},
     "output_type": "execute_result"
    }
   ],
   "source": [
    "df_qsidp.shape"
   ]
  },
  {
   "cell_type": "code",
   "execution_count": 5,
   "id": "3ac42af3-5205-44d6-b4fc-a48b864691cc",
   "metadata": {},
   "outputs": [],
   "source": [
    "pain_matched_bmrc = pd.read_csv('./subjs_bmrc/label_paincontrol.csv')"
   ]
  },
  {
   "cell_type": "code",
   "execution_count": 16,
   "id": "f20ac457-4790-4e0d-a3d9-5fd958b2bf34",
   "metadata": {},
   "outputs": [
    {
     "data": {
      "text/plain": [
       "(4558, 3)"
      ]
     },
     "execution_count": 16,
     "metadata": {},
     "output_type": "execute_result"
    }
   ],
   "source": [
    "pain_matched_bmrc.shape"
   ]
  },
  {
   "cell_type": "code",
   "execution_count": 17,
   "id": "c903d364-e39b-47e3-a481-38fb0cadc8ce",
   "metadata": {},
   "outputs": [],
   "source": [
    "df_qsidp_filtered = df_qsidp[df_qsidp['eid'].isin(pain_matched_bmrc['eid'])]"
   ]
  },
  {
   "cell_type": "code",
   "execution_count": 18,
   "id": "7d0a3ae8-75e0-4d0e-944b-8ef975d34c38",
   "metadata": {},
   "outputs": [
    {
     "data": {
      "text/plain": [
       "(6833, 2861)"
      ]
     },
     "execution_count": 18,
     "metadata": {},
     "output_type": "execute_result"
    }
   ],
   "source": [
    "df_qsidp_filtered.shape"
   ]
  },
  {
   "cell_type": "code",
   "execution_count": 19,
   "id": "9518eea5-1750-407d-9865-17ef3560eaa4",
   "metadata": {},
   "outputs": [],
   "source": [
    "df_q_f_d = df_qsidp_filtered.drop_duplicates(subset=['eid'])"
   ]
  },
  {
   "cell_type": "code",
   "execution_count": 20,
   "id": "21be5748-94ee-4c90-a2fe-2ab974b8652c",
   "metadata": {},
   "outputs": [
    {
     "data": {
      "text/plain": [
       "(4558, 2861)"
      ]
     },
     "execution_count": 20,
     "metadata": {},
     "output_type": "execute_result"
    }
   ],
   "source": [
    "df_q_f_d.shape"
   ]
  },
  {
   "cell_type": "code",
   "execution_count": 21,
   "id": "6974c278-c66b-4155-8ec3-c1d1c0e7e823",
   "metadata": {},
   "outputs": [],
   "source": [
    "df_q_f_d.to_csv('./data/qsidp_paincontrol.csv',index=None)"
   ]
  },
  {
   "cell_type": "markdown",
   "id": "64891bdf-7ddd-4943-9e9c-02086b53f97e",
   "metadata": {},
   "source": [
    "#### extract controls for bmrc pain patient exmult"
   ]
  },
  {
   "cell_type": "code",
   "execution_count": 6,
   "id": "ab5e7a1d-0b1d-48c4-b32c-29c393d39e0f",
   "metadata": {},
   "outputs": [],
   "source": [
    "disease = pd.read_csv('./subjs_bmrc/subjs_patients_pain_exmult.csv')"
   ]
  },
  {
   "cell_type": "code",
   "execution_count": 7,
   "id": "7a992a67-03cd-4213-8228-06fa353d8d41",
   "metadata": {},
   "outputs": [],
   "source": [
    "disease_eid = disease['eid']"
   ]
  },
  {
   "cell_type": "code",
   "execution_count": 8,
   "id": "b7f5ac83-185e-4fff-b4cb-6ac145a12f42",
   "metadata": {},
   "outputs": [
    {
     "name": "stderr",
     "output_type": "stream",
     "text": [
      "/home/fs0/syzhang/.conda/envs/bbk/lib/python3.8/site-packages/IPython/core/interactiveshell.py:3165: DtypeWarning: Columns (863,867) have mixed types.Specify dtype option on import or set low_memory=False.\n",
      "  has_raised = await self.run_ast_nodes(code_ast.body, cell_name,\n"
     ]
    }
   ],
   "source": [
    "df_disease = pd.read_csv('./data/qsidp_patients_pain.csv')"
   ]
  },
  {
   "cell_type": "code",
   "execution_count": 16,
   "id": "eace1191-921c-485c-941e-2baaeed28700",
   "metadata": {},
   "outputs": [],
   "source": [
    "df_disease_filtered = df_disease[df_disease['eid'].isin(disease_eid)]"
   ]
  },
  {
   "cell_type": "code",
   "execution_count": 17,
   "id": "41d552d5-600c-47a3-8627-d9f18a011f08",
   "metadata": {},
   "outputs": [
    {
     "data": {
      "text/plain": [
       "(3363, 2861)"
      ]
     },
     "execution_count": 17,
     "metadata": {},
     "output_type": "execute_result"
    }
   ],
   "source": [
    "df_disease.shape"
   ]
  },
  {
   "cell_type": "code",
   "execution_count": 18,
   "id": "395e42f8-2064-4060-9ea5-8fcdd6d7bfab",
   "metadata": {},
   "outputs": [
    {
     "data": {
      "text/plain": [
       "(2280, 2861)"
      ]
     },
     "execution_count": 18,
     "metadata": {},
     "output_type": "execute_result"
    }
   ],
   "source": [
    "df_disease_filtered.shape"
   ]
  },
  {
   "cell_type": "code",
   "execution_count": 19,
   "id": "65718f4b-32bd-4fe7-8fc9-ca67cda2903d",
   "metadata": {},
   "outputs": [],
   "source": [
    "control = pd.read_csv('./subjs_bmrc/subjs_pain_minus_matched.csv')"
   ]
  },
  {
   "cell_type": "code",
   "execution_count": 20,
   "id": "0946ecb8-53e8-43e1-aef4-f642d218ffcb",
   "metadata": {},
   "outputs": [],
   "source": [
    "control_eid = control['eid']"
   ]
  },
  {
   "cell_type": "code",
   "execution_count": 27,
   "id": "90031e27-540c-46bc-bf01-ee1745692b07",
   "metadata": {},
   "outputs": [
    {
     "data": {
      "text/plain": [
       "(14423,)"
      ]
     },
     "execution_count": 27,
     "metadata": {},
     "output_type": "execute_result"
    }
   ],
   "source": [
    "control_eid.shape"
   ]
  },
  {
   "cell_type": "code",
   "execution_count": 22,
   "id": "8ae57425-7dea-4f4e-bcaa-31b3f9aea305",
   "metadata": {},
   "outputs": [
    {
     "name": "stderr",
     "output_type": "stream",
     "text": [
      "/home/fs0/syzhang/.conda/envs/bbk/lib/python3.8/site-packages/IPython/core/interactiveshell.py:3165: DtypeWarning: Columns (863) have mixed types.Specify dtype option on import or set low_memory=False.\n",
      "  has_raised = await self.run_ast_nodes(code_ast.body, cell_name,\n"
     ]
    }
   ],
   "source": [
    "df_control = pd.read_csv('./data/qsidp_pain_minus.csv')"
   ]
  },
  {
   "cell_type": "code",
   "execution_count": 23,
   "id": "c9703d27-7835-4d20-a05d-86bb915e9b82",
   "metadata": {},
   "outputs": [
    {
     "data": {
      "text/plain": [
       "(26328, 2861)"
      ]
     },
     "execution_count": 23,
     "metadata": {},
     "output_type": "execute_result"
    }
   ],
   "source": [
    "df_control.shape"
   ]
  },
  {
   "cell_type": "code",
   "execution_count": 28,
   "id": "1716b9cd-8583-45eb-84e5-a87317a9411f",
   "metadata": {},
   "outputs": [],
   "source": [
    "df_control_filtered = df_control[df_control['eid'].isin(control_eid)]"
   ]
  },
  {
   "cell_type": "code",
   "execution_count": 32,
   "id": "bb3f9de7-d8af-4ba3-a92e-81cfe715e731",
   "metadata": {},
   "outputs": [],
   "source": [
    "df_control_filtered = df_control_filtered.drop_duplicates('eid')"
   ]
  },
  {
   "cell_type": "code",
   "execution_count": 33,
   "id": "5616fd18-fe3b-46d0-a49b-8cc1bdb6b4de",
   "metadata": {},
   "outputs": [
    {
     "data": {
      "text/plain": [
       "(14423, 2861)"
      ]
     },
     "execution_count": 33,
     "metadata": {},
     "output_type": "execute_result"
    }
   ],
   "source": [
    "df_control_filtered.shape"
   ]
  },
  {
   "cell_type": "code",
   "execution_count": 34,
   "id": "177c3f7d-acb3-45b9-a94b-418d142cf6d8",
   "metadata": {},
   "outputs": [],
   "source": [
    "# find matched controls\n",
    "from compare_control import extract_control\n",
    "df_matched = extract_control(df_control=df_control_filtered, \n",
    "                             df_disease=df_disease_filtered, save_csv=False)"
   ]
  },
  {
   "cell_type": "code",
   "execution_count": 36,
   "id": "d9c98b37-6ff2-4876-b6f7-0ef1f4ca538c",
   "metadata": {},
   "outputs": [],
   "source": [
    "df_verify = df_control_filtered[df_control_filtered['eid'].isin(df_matched)]"
   ]
  },
  {
   "cell_type": "code",
   "execution_count": 38,
   "id": "368b51ac-bfd5-4544-bb40-6afd6a931ef4",
   "metadata": {},
   "outputs": [
    {
     "data": {
      "text/plain": [
       "(2278, 2861)"
      ]
     },
     "execution_count": 38,
     "metadata": {},
     "output_type": "execute_result"
    }
   ],
   "source": [
    "df_verify.shape"
   ]
  },
  {
   "cell_type": "code",
   "execution_count": 40,
   "id": "7a12716c-a18e-4598-84ab-9146eee95bb8",
   "metadata": {},
   "outputs": [
    {
     "data": {
      "text/plain": [
       "0.3617208077260755"
      ]
     },
     "execution_count": 40,
     "metadata": {},
     "output_type": "execute_result"
    }
   ],
   "source": [
    "df_verify['31-0.0'].mean()"
   ]
  },
  {
   "cell_type": "code",
   "execution_count": 42,
   "id": "8d21f555-432d-4ed1-9dcc-167e1dc1d688",
   "metadata": {},
   "outputs": [
    {
     "data": {
      "text/plain": [
       "63.1352063213345"
      ]
     },
     "execution_count": 42,
     "metadata": {},
     "output_type": "execute_result"
    }
   ],
   "source": [
    "df_verify['21003-2.0'].mean()"
   ]
  },
  {
   "cell_type": "code",
   "execution_count": 43,
   "id": "f828af0f-b148-4a97-8fab-cb27e8983625",
   "metadata": {},
   "outputs": [
    {
     "data": {
      "text/plain": [
       "0.3618421052631579"
      ]
     },
     "execution_count": 43,
     "metadata": {},
     "output_type": "execute_result"
    }
   ],
   "source": [
    "df_disease_filtered['31-0.0'].mean()"
   ]
  },
  {
   "cell_type": "code",
   "execution_count": 44,
   "id": "d5800c8f-2487-4a5d-8423-93fa4df6a485",
   "metadata": {},
   "outputs": [
    {
     "data": {
      "text/plain": [
       "63.11929824561403"
      ]
     },
     "execution_count": 44,
     "metadata": {},
     "output_type": "execute_result"
    }
   ],
   "source": [
    "df_disease_filtered['21003-2.0'].mean()"
   ]
  },
  {
   "cell_type": "code",
   "execution_count": 49,
   "id": "a054a132-bcf9-4ff5-b23b-54501fa2b905",
   "metadata": {},
   "outputs": [],
   "source": [
    "df_matched_save = pd.DataFrame({'eid':df_matched}, dtype=int)"
   ]
  },
  {
   "cell_type": "code",
   "execution_count": 51,
   "id": "717846cc-2d7f-4b76-9e5c-d2aa9275bc6c",
   "metadata": {},
   "outputs": [],
   "source": [
    "df_matched_save.to_csv('./subjs_bmrc/subjs_patients_pain_matched_exmult.csv', index=None)"
   ]
  },
  {
   "cell_type": "code",
   "execution_count": 53,
   "id": "79f39865-b5a1-4986-9f82-71e9b1d41ed3",
   "metadata": {},
   "outputs": [],
   "source": [
    "matched_bmrc = control[control['eid'].isin(df_matched)]"
   ]
  },
  {
   "cell_type": "code",
   "execution_count": 56,
   "id": "1f31f991-8da4-479d-9179-a79edb68a6dd",
   "metadata": {},
   "outputs": [],
   "source": [
    "matched_bmrc.to_csv('./subjs_bmrc/subjs_bmrc_patients_pain_matched_exmult.csv', index=None)"
   ]
  },
  {
   "cell_type": "code",
   "execution_count": 58,
   "id": "c7cb2457-c98e-46c9-9bf2-9275ba310e97",
   "metadata": {},
   "outputs": [],
   "source": [
    "disease['label'] = 1"
   ]
  },
  {
   "cell_type": "code",
   "execution_count": 60,
   "id": "f6eaa2d4-eb6e-4122-9755-db31570478a0",
   "metadata": {},
   "outputs": [
    {
     "name": "stderr",
     "output_type": "stream",
     "text": [
      "<ipython-input-60-385b960dde27>:1: SettingWithCopyWarning: \n",
      "A value is trying to be set on a copy of a slice from a DataFrame.\n",
      "Try using .loc[row_indexer,col_indexer] = value instead\n",
      "\n",
      "See the caveats in the documentation: https://pandas.pydata.org/pandas-docs/stable/user_guide/indexing.html#returning-a-view-versus-a-copy\n",
      "  matched_bmrc['label'] = 0\n"
     ]
    }
   ],
   "source": [
    "matched_bmrc['label'] = 0"
   ]
  },
  {
   "cell_type": "code",
   "execution_count": 61,
   "id": "978f646c-3a91-41f0-87d8-c0813d92960c",
   "metadata": {},
   "outputs": [
    {
     "data": {
      "text/html": [
       "<div>\n",
       "<style scoped>\n",
       "    .dataframe tbody tr th:only-of-type {\n",
       "        vertical-align: middle;\n",
       "    }\n",
       "\n",
       "    .dataframe tbody tr th {\n",
       "        vertical-align: top;\n",
       "    }\n",
       "\n",
       "    .dataframe thead th {\n",
       "        text-align: right;\n",
       "    }\n",
       "</style>\n",
       "<table border=\"1\" class=\"dataframe\">\n",
       "  <thead>\n",
       "    <tr style=\"text-align: right;\">\n",
       "      <th></th>\n",
       "      <th>eid</th>\n",
       "      <th>bmrc</th>\n",
       "      <th>label</th>\n",
       "    </tr>\n",
       "  </thead>\n",
       "  <tbody>\n",
       "    <tr>\n",
       "      <th>0</th>\n",
       "      <td>1018925</td>\n",
       "      <td>5482415</td>\n",
       "      <td>0</td>\n",
       "    </tr>\n",
       "    <tr>\n",
       "      <th>1</th>\n",
       "      <td>1049209</td>\n",
       "      <td>4882883</td>\n",
       "      <td>0</td>\n",
       "    </tr>\n",
       "    <tr>\n",
       "      <th>2</th>\n",
       "      <td>1046782</td>\n",
       "      <td>1695643</td>\n",
       "      <td>0</td>\n",
       "    </tr>\n",
       "    <tr>\n",
       "      <th>3</th>\n",
       "      <td>1050966</td>\n",
       "      <td>3809395</td>\n",
       "      <td>0</td>\n",
       "    </tr>\n",
       "    <tr>\n",
       "      <th>4</th>\n",
       "      <td>1046987</td>\n",
       "      <td>3925954</td>\n",
       "      <td>0</td>\n",
       "    </tr>\n",
       "    <tr>\n",
       "      <th>...</th>\n",
       "      <td>...</td>\n",
       "      <td>...</td>\n",
       "      <td>...</td>\n",
       "    </tr>\n",
       "    <tr>\n",
       "      <th>3902</th>\n",
       "      <td>2724329</td>\n",
       "      <td>3991928</td>\n",
       "      <td>0</td>\n",
       "    </tr>\n",
       "    <tr>\n",
       "      <th>4000</th>\n",
       "      <td>2821813</td>\n",
       "      <td>1221950</td>\n",
       "      <td>0</td>\n",
       "    </tr>\n",
       "    <tr>\n",
       "      <th>4063</th>\n",
       "      <td>3737039</td>\n",
       "      <td>1969312</td>\n",
       "      <td>0</td>\n",
       "    </tr>\n",
       "    <tr>\n",
       "      <th>4069</th>\n",
       "      <td>3749908</td>\n",
       "      <td>1638666</td>\n",
       "      <td>0</td>\n",
       "    </tr>\n",
       "    <tr>\n",
       "      <th>4095</th>\n",
       "      <td>3868735</td>\n",
       "      <td>4096499</td>\n",
       "      <td>0</td>\n",
       "    </tr>\n",
       "  </tbody>\n",
       "</table>\n",
       "<p>2278 rows × 3 columns</p>\n",
       "</div>"
      ],
      "text/plain": [
       "          eid     bmrc  label\n",
       "0     1018925  5482415      0\n",
       "1     1049209  4882883      0\n",
       "2     1046782  1695643      0\n",
       "3     1050966  3809395      0\n",
       "4     1046987  3925954      0\n",
       "...       ...      ...    ...\n",
       "3902  2724329  3991928      0\n",
       "4000  2821813  1221950      0\n",
       "4063  3737039  1969312      0\n",
       "4069  3749908  1638666      0\n",
       "4095  3868735  4096499      0\n",
       "\n",
       "[2278 rows x 3 columns]"
      ]
     },
     "execution_count": 61,
     "metadata": {},
     "output_type": "execute_result"
    }
   ],
   "source": [
    "matched_bmrc"
   ]
  },
  {
   "cell_type": "code",
   "execution_count": 62,
   "id": "ecf2ed86-777b-47bd-aa21-443b7ef3df2d",
   "metadata": {},
   "outputs": [],
   "source": [
    "pain_matched_bmrc = pd.concat([disease, matched_bmrc])"
   ]
  },
  {
   "cell_type": "code",
   "execution_count": 65,
   "id": "7667a8b1-e767-42e1-a4fb-f3cd76a4b31a",
   "metadata": {},
   "outputs": [],
   "source": [
    "pain_matched_bmrc.to_csv('./subjs_bmrc/label_paincontrol.csv', index=None)"
   ]
  },
  {
   "cell_type": "code",
   "execution_count": 70,
   "id": "4416d707-f9ef-4529-bb52-835faadafd4b",
   "metadata": {},
   "outputs": [],
   "source": [
    "pain_control_bmrc = pain_matched_bmrc['bmrc'].rename('eid')"
   ]
  },
  {
   "cell_type": "code",
   "execution_count": 71,
   "id": "52d2a148-19d0-491a-b711-4d965ef0fb87",
   "metadata": {},
   "outputs": [],
   "source": [
    "pain_control_bmrc.to_csv('./subjs_bmrc/subjs_paincontrol.csv', index=None)"
   ]
  },
  {
   "cell_type": "code",
   "execution_count": null,
   "id": "413c11a8-d51f-4a25-97e3-d3c0b15e6a99",
   "metadata": {},
   "outputs": [],
   "source": []
  },
  {
   "cell_type": "markdown",
   "id": "correct-juvenile",
   "metadata": {},
   "source": [
    "#### create label for digestive"
   ]
  },
  {
   "cell_type": "code",
   "execution_count": 3,
   "id": "revolutionary-shade",
   "metadata": {},
   "outputs": [
    {
     "name": "stderr",
     "output_type": "stream",
     "text": [
      "/home/fs0/syzhang/.conda/envs/biobank/lib/python3.9/site-packages/IPython/core/interactiveshell.py:3165: DtypeWarning: Columns (2441,2442,2443,2444,2445,2446,2447,2448,2449,2450,2451,2452,2453,2454,2455,2456,2457,2499,2500,2550,2551,2552,2553,2554,2555,2556,2557,2558,2559,2560,2561,2562,2563,2564,2565,2566,2567,2568,2569,2570,2571,2572,2573,2574,2575,2576,2577,2578,2579,2580,2581,2582,2583,2584,2585,2586,2587,2588,2589,2590,2591,2592,2593,2594,2595,2596,2597,2598,2599,2600,2601,2602,2603,2604,2605,2606,2607,2742,2743,2810,2811,2812,2813,2814,2815,2816,2817,2818,2819,2820,2821,2822,2823,2824,2825,2826,2827,2828,2829,2830,2831,2832,2833,2834,2835,2836,2837,2838,2839,2840,2841,2842,2843,2844,2845,2846,2847,2848,2849,2850,2851,2852,2853,2854,2855,2856,2857,2858,2859,2860,2861,2862,2863,2864,2865,2866,2867,3000,3001,3002,3003,3004) have mixed types.Specify dtype option on import or set low_memory=False.\n",
      "  has_raised = await self.run_ast_nodes(code_ast.body, cell_name,\n"
     ]
    }
   ],
   "source": [
    "df = pd.read_csv('../funpack_cfg/qsidp_subjs_digestive_imaging.tsv', sep='\\t')"
   ]
  },
  {
   "cell_type": "code",
   "execution_count": 8,
   "id": "concerned-bristol",
   "metadata": {},
   "outputs": [],
   "source": [
    "def pain_label(df, label_type='severe'):\n",
    "    \"\"\"create pain label based on digestive qs\"\"\"\n",
    "    # load digestive qs\n",
    "    qs = load_qscode(questionnaire='digestive', idp=None)\n",
    "    dfq = extract_qs(df, df_questionnaire=qs, visits=[2])\n",
    "    # pain label\n",
    "    if label_type == 'severe': # only include bothered a lot\n",
    "        dfq['label'] = [\n",
    "            (dfq['21027-0.0']==1) | # Abdominal discomfort/pain for 6 months or longer\n",
    "            (dfq['21035-0.0']==1) | # Currently (in last 3 months) suffer from abdominal pain\n",
    "            (dfq['21048-0.0']==-602) | # Degree bothered by back pain in the past 3 months\n",
    "            (dfq['21052-0.0']==-602) | # Degree bothered by chest pain in the last 3 months\n",
    "            (dfq['21051-0.0']==-602) | # Degree bothered by headaches in the last 3 months\n",
    "            (dfq['21049-0.0']==-602) | # Degree bothered by pain in arms/legs/joints in the past 3 months\n",
    "            (dfq['21057-0.0']==-602) # Degree bothered by pain/problems during intercourse in the last 3 months\n",
    "        ][0].astype(int)\n",
    "    elif label_type == 'mild': # include bothered a little\n",
    "        dfq['label'] = [\n",
    "            (dfq['21027-0.0']==1) | # Abdominal discomfort/pain for 6 months or longer\n",
    "            (dfq['21035-0.0']==1) | # Currently (in last 3 months) suffer from abdominal pain\n",
    "            (dfq['21048-0.0']!=-600) | # Degree bothered by back pain in the past 3 months\n",
    "            (dfq['21052-0.0']!=-600) | # Degree bothered by chest pain in the last 3 months\n",
    "            (dfq['21051-0.0']!=-600) | # Degree bothered by headaches in the last 3 months\n",
    "            (dfq['21049-0.0']!=-600) | # Degree bothered by pain in arms/legs/joints in the past 3 months\n",
    "            (dfq['21057-0.0']!=-600) # Degree bothered by pain/problems during intercourse in the last 3 months\n",
    "        ][0].astype(int)\n",
    "    elif label_type == 'severe_wide': # include bothered a little\n",
    "        dfq['label'] = [\n",
    "            (dfq['21027-0.0']==1) | # Abdominal discomfort/pain for 6 months or longer\n",
    "            (dfq['21035-0.0']==1) | # Currently (in last 3 months) suffer from abdominal pain\n",
    "            (dfq['21048-0.0']==-602) | # Degree bothered by back pain in the past 3 months\n",
    "            (dfq['21052-0.0']==-602) | # Degree bothered by chest pain in the last 3 months\n",
    "            (dfq['21051-0.0']==-602) | # Degree bothered by headaches in the last 3 months\n",
    "            (dfq['21049-0.0']==-602) | # Degree bothered by pain in arms/legs/joints in the past 3 months\n",
    "            (dfq['21057-0.0']==-602) | # Degree bothered by pain/problems during intercourse in the last 3 months\n",
    "            (dfq['21048-0.0']==-601) | # Degree bothered by back pain in the past 3 months\n",
    "            (dfq['21052-0.0']==-601) | # Degree bothered by chest pain in the last 3 months\n",
    "            (dfq['21051-0.0']==-601) | # Degree bothered by headaches in the last 3 months\n",
    "            (dfq['21049-0.0']==-601) | # Degree bothered by pain in arms/legs/joints in the past 3 months\n",
    "            (dfq['21057-0.0']==-601) # Degree bothered by pain/problems during intercourse in the last 3 months\n",
    "        ][0].astype(int)\n",
    "    return dfq"
   ]
  },
  {
   "cell_type": "code",
   "execution_count": 10,
   "id": "dominant-bishop",
   "metadata": {},
   "outputs": [
    {
     "data": {
      "text/plain": [
       "0.6874209060997216"
      ]
     },
     "execution_count": 10,
     "metadata": {},
     "output_type": "execute_result"
    }
   ],
   "source": [
    "dfl = pain_label(df, label_type='severe')\n",
    "1-dfl['label'].sum()/dfl.shape[0]"
   ]
  },
  {
   "cell_type": "code",
   "execution_count": 29,
   "id": "fantastic-humanitarian",
   "metadata": {},
   "outputs": [
    {
     "data": {
      "text/plain": [
       "0.31257909390027844"
      ]
     },
     "execution_count": 29,
     "metadata": {},
     "output_type": "execute_result"
    }
   ],
   "source": [
    "dfl = pain_label(df, label_type='severe')\n",
    "dfl['label'].sum()/dfl.shape[0]"
   ]
  },
  {
   "cell_type": "code",
   "execution_count": 9,
   "id": "cognitive-feeling",
   "metadata": {},
   "outputs": [
    {
     "data": {
      "text/plain": [
       "0.8038471273095419"
      ]
     },
     "execution_count": 9,
     "metadata": {},
     "output_type": "execute_result"
    }
   ],
   "source": [
    "dfl = pain_label(df, label_type='severe_wide')\n",
    "dfl['label'].sum()/dfl.shape[0]"
   ]
  },
  {
   "cell_type": "code",
   "execution_count": 6,
   "id": "bored-album",
   "metadata": {},
   "outputs": [
    {
     "data": {
      "text/plain": [
       "0.853454821564161"
      ]
     },
     "execution_count": 6,
     "metadata": {},
     "output_type": "execute_result"
    }
   ],
   "source": [
    "dfl = pain_label(df, label_type='mild')\n",
    "dfl['label'].sum()/dfl.shape[0]"
   ]
  },
  {
   "cell_type": "code",
   "execution_count": 7,
   "id": "infectious-charm",
   "metadata": {},
   "outputs": [],
   "source": [
    "def pain_wideness(df):\n",
    "    \"\"\"construct a measure of pain widespreadness\"\"\"\n",
    "    # load digestive qs\n",
    "    qs = load_qscode(questionnaire='digestive', idp=None)\n",
    "    dfq = extract_qs(df, df_questionnaire=qs, visits=[2])\n",
    "    # pain wideness\n",
    "    return dfq"
   ]
  },
  {
   "cell_type": "code",
   "execution_count": 30,
   "id": "reliable-indonesia",
   "metadata": {},
   "outputs": [],
   "source": [
    "dfq = pain_wideness(df)"
   ]
  },
  {
   "cell_type": "code",
   "execution_count": 15,
   "id": "relevant-graduate",
   "metadata": {},
   "outputs": [
    {
     "name": "stderr",
     "output_type": "stream",
     "text": [
      "/home/fs0/syzhang/.conda/envs/biobank/lib/python3.9/site-packages/IPython/core/interactiveshell.py:3357: DtypeWarning: Columns (2441,2442,2443,2444,2445,2446,2447,2448,2449,2450,2451,2452,2453,2454,2455,2456,2457,2499,2500,2550,2551,2552,2553,2554,2555,2556,2557,2558,2559,2560,2561,2562,2563,2564,2565,2566,2567,2568,2569,2570,2571,2572,2573,2574,2575,2576,2577,2578,2579,2580,2581,2582,2583,2584,2585,2586,2587,2588,2589,2590,2591,2592,2593,2594,2595,2596,2597,2598,2599,2600,2601,2602,2603,2604,2605,2606,2607,2742,2743,2810,2811,2812,2813,2814,2815,2816,2817,2818,2819,2820,2821,2822,2823,2824,2825,2826,2827,2828,2829,2830,2831,2832,2833,2834,2835,2836,2837,2838,2839,2840,2841,2842,2843,2844,2845,2846,2847,2848,2849,2850,2851,2852,2853,2854,2855,2856,2857,2858,2859,2860,2861,2862,2863,2864,2865,2866,2867,3000,3001,3002,3003,3004) have mixed types.Specify dtype option on import or set low_memory=False.\n",
      "  if (await self.run_code(code, result,  async_=asy)):\n"
     ]
    },
    {
     "name": "stdout",
     "output_type": "stream",
     "text": [
      "(3951, 3797)\n"
     ]
    }
   ],
   "source": [
    "from predict_digestive import *\n",
    "dff_imputed = load_digestive_data(label_type='severe', questionnaire=None, \n",
    "                                  idp='taskfmri', question_visits=[2], imputed=False)"
   ]
  },
  {
   "cell_type": "code",
   "execution_count": 28,
   "id": "moral-commission",
   "metadata": {},
   "outputs": [
    {
     "data": {
      "text/plain": [
       "dtype('float64')"
      ]
     },
     "execution_count": 28,
     "metadata": {},
     "output_type": "execute_result"
    }
   ],
   "source": [
    "dff_imputed.loc[0].dtype=="
   ]
  },
  {
   "cell_type": "code",
   "execution_count": 20,
   "id": "innovative-strip",
   "metadata": {},
   "outputs": [
    {
     "name": "stderr",
     "output_type": "stream",
     "text": [
      "/home/fs0/syzhang/.conda/envs/biobank/lib/python3.9/site-packages/IPython/core/interactiveshell.py:3357: DtypeWarning: Columns (2441,2442,2443,2444,2445,2446,2447,2448,2449,2450,2451,2452,2453,2454,2455,2456,2457,2499,2500,2550,2551,2552,2553,2554,2555,2556,2557,2558,2559,2560,2561,2562,2563,2564,2565,2566,2567,2568,2569,2570,2571,2572,2573,2574,2575,2576,2577,2578,2579,2580,2581,2582,2583,2584,2585,2586,2587,2588,2589,2590,2591,2592,2593,2594,2595,2596,2597,2598,2599,2600,2601,2602,2603,2604,2605,2606,2607,2742,2743,2810,2811,2812,2813,2814,2815,2816,2817,2818,2819,2820,2821,2822,2823,2824,2825,2826,2827,2828,2829,2830,2831,2832,2833,2834,2835,2836,2837,2838,2839,2840,2841,2842,2843,2844,2845,2846,2847,2848,2849,2850,2851,2852,2853,2854,2855,2856,2857,2858,2859,2860,2861,2862,2863,2864,2865,2866,2867,3000,3001,3002,3003,3004) have mixed types.Specify dtype option on import or set low_memory=False.\n",
      "  if (await self.run_code(code, result,  async_=asy)):\n"
     ]
    },
    {
     "name": "stdout",
     "output_type": "stream",
     "text": [
      "(3951, 3797)\n"
     ]
    }
   ],
   "source": [
    "from predict_digestive import *\n",
    "dff_imputed = load_digestive_data(label_type='severe', questionnaire=None, \n",
    "                                  idp='t1vols', question_visits=[2], imputed=False)"
   ]
  },
  {
   "cell_type": "code",
   "execution_count": 21,
   "id": "mature-circular",
   "metadata": {},
   "outputs": [
    {
     "data": {
      "text/plain": [
       "Index(['eid', '25007-2.0', '25004-2.0', '25009-2.0', '25005-2.0', '25006-2.0',\n",
       "       '25025-2.0', '25001-2.0', '25010-2.0', '25003-2.0', '25008-2.0',\n",
       "       '25000-2.0', '25002-2.0', 'label'],\n",
       "      dtype='object')"
      ]
     },
     "execution_count": 21,
     "metadata": {},
     "output_type": "execute_result"
    }
   ],
   "source": [
    "dff_imputed.columns"
   ]
  },
  {
   "cell_type": "code",
   "execution_count": 22,
   "id": "electronic-blood",
   "metadata": {},
   "outputs": [
    {
     "data": {
      "text/plain": [
       "eid          0\n",
       "25007-2.0    0\n",
       "25004-2.0    0\n",
       "25009-2.0    0\n",
       "25005-2.0    0\n",
       "25006-2.0    0\n",
       "25025-2.0    0\n",
       "25001-2.0    0\n",
       "25010-2.0    0\n",
       "25003-2.0    0\n",
       "25008-2.0    0\n",
       "25000-2.0    0\n",
       "25002-2.0    0\n",
       "label        0\n",
       "dtype: int64"
      ]
     },
     "execution_count": 22,
     "metadata": {},
     "output_type": "execute_result"
    }
   ],
   "source": [
    "dff_imputed.isna().sum()"
   ]
  },
  {
   "cell_type": "code",
   "execution_count": 23,
   "id": "relative-boston",
   "metadata": {},
   "outputs": [
    {
     "data": {
      "image/png": "[encoded data removed]",
      "text/plain": [
       "<Figure size 432x288 with 1 Axes>"
      ]
     },
     "metadata": {
      "needs_background": "light"
     },
     "output_type": "display_data"
    },
    {
     "data": {
      "image/png": "[encoded data removed]",
      "text/plain": [
       "<Figure size 432x288 with 1 Axes>"
      ]
     },
     "metadata": {
      "needs_background": "light"
     },
     "output_type": "display_data"
    },
    {
     "data": {
      "image/png": "[encoded data removed]",
      "text/plain": [
       "<Figure size 432x288 with 1 Axes>"
      ]
     },
     "metadata": {
      "needs_background": "light"
     },
     "output_type": "display_data"
    },
    {
     "data": {
      "image/png": "[encoded data removed]",
      "text/plain": [
       "<Figure size 432x288 with 1 Axes>"
      ]
     },
     "metadata": {
      "needs_background": "light"
     },
     "output_type": "display_data"
    },
    {
     "data": {
      "image/png": "[encoded data removed]",
      "text/plain": [
       "<Figure size 432x288 with 1 Axes>"
      ]
     },
     "metadata": {
      "needs_background": "light"
     },
     "output_type": "display_data"
    },
    {
     "data": {
      "image/png": "[encoded data removed]",
      "text/plain": [
       "<Figure size 432x288 with 1 Axes>"
      ]
     },
     "metadata": {
      "needs_background": "light"
     },
     "output_type": "display_data"
    },
    {
     "data": {
      "image/png": "[encoded data removed]",
      "text/plain": [
       "<Figure size 432x288 with 1 Axes>"
      ]
     },
     "metadata": {
      "needs_background": "light"
     },
     "output_type": "display_data"
    },
    {
     "data": {
      "image/png": "[encoded data removed]",
      "text/plain": [
       "<Figure size 432x288 with 1 Axes>"
      ]
     },
     "metadata": {
      "needs_background": "light"
     },
     "output_type": "display_data"
    },
    {
     "data": {
      "image/png": "[encoded data removed]",
      "text/plain": [
       "<Figure size 432x288 with 1 Axes>"
      ]
     },
     "metadata": {
      "needs_background": "light"
     },
     "output_type": "display_data"
    },
    {
     "data": {
      "image/png": "[encoded data removed]",
      "text/plain": [
       "<Figure size 432x288 with 1 Axes>"
      ]
     },
     "metadata": {
      "needs_background": "light"
     },
     "output_type": "display_data"
    },
    {
     "data": {
      "image/png": "[encoded data removed]",
      "text/plain": [
       "<Figure size 432x288 with 1 Axes>"
      ]
     },
     "metadata": {
      "needs_background": "light"
     },
     "output_type": "display_data"
    },
    {
     "data": {
      "image/png": "[encoded data removed]",
      "text/plain": [
       "<Figure size 432x288 with 1 Axes>"
      ]
     },
     "metadata": {
      "needs_background": "light"
     },
     "output_type": "display_data"
    },
    {
     "data": {
      "image/png": "[encoded data removed]",
      "text/plain": [
       "<Figure size 432x288 with 1 Axes>"
      ]
     },
     "metadata": {
      "needs_background": "light"
     },
     "output_type": "display_data"
    },
    {
     "data": {
      "image/png": "[encoded data removed]",
      "text/plain": [
       "<Figure size 432x288 with 1 Axes>"
      ]
     },
     "metadata": {
      "needs_background": "light"
     },
     "output_type": "display_data"
    }
   ],
   "source": [
    "for c in dff_imputed.columns:\n",
    "    plt.subplots()\n",
    "    dff_imputed[c].plot(kind='hist')"
   ]
  },
  {
   "cell_type": "markdown",
   "id": "immediate-advocate",
   "metadata": {},
   "source": [
    "#### previous"
   ]
  },
  {
   "cell_type": "code",
   "execution_count": 9,
   "id": "other-round",
   "metadata": {},
   "outputs": [
    {
     "name": "stderr",
     "output_type": "stream",
     "text": [
      "/home/fs0/syzhang/.conda/envs/biobank/lib/python3.9/site-packages/IPython/core/interactiveshell.py:3165: DtypeWarning: Columns (2440,2441,2442,2443,2444,2445,2446,2447,2448,2449,2450,2451,2452,2453,2454,2455,2456,2457,2500,2501,2502,2503,2504,2505,2506,2507,2543,2544,2545,2546,2547,2548,2549,2550,2551,2552,2553,2554,2555,2556,2557,2558,2559,2560,2561,2562,2563,2564,2565,2566,2567,2568,2569,2570,2571,2572,2573,2574,2575,2576,2577,2578,2579,2580,2581,2582,2583,2584,2585,2586,2587,2588,2589,2590,2591,2592,2593,2594,2595,2596,2597,2598,2599,2600,2601,2602,2603,2604,2605,2606,2607,2740,2741,2742,2743,2744,2745,2746,2747,2748,2749,2750,2751,2803,2804,2805,2806,2807,2808,2809,2810,2811,2812,2813,2814,2815,2816,2817,2818,2819,2820,2821,2822,2823,2824,2825,2826,2827,2828,2829,2830,2831,2832,2833,2834,2835,2836,2837,2838,2839,2840,2841,2842,2843,2844,2845,2846,2847,2848,2849,2850,2851,2852,2853,2854,2855,2856,2857,2858,2859,2860,2861,2862,2863,2864,2865,2866,2867,3002,3003,3004,3005,3006,3007,3008,3009,3010,3011) have mixed types.Specify dtype option on import or set low_memory=False.\n",
      "  has_raised = await self.run_ast_nodes(code_ast.body, cell_name,\n"
     ]
    }
   ],
   "source": [
    "df = pd.read_csv('../funpack_cfg/qsidp_subjs_control_allvisits_extended.tsv', sep='\\t')"
   ]
  },
  {
   "cell_type": "code",
   "execution_count": 10,
   "id": "fancy-mention",
   "metadata": {},
   "outputs": [
    {
     "data": {
      "text/plain": [
       "(14659, 3797)"
      ]
     },
     "execution_count": 10,
     "metadata": {},
     "output_type": "execute_result"
    }
   ],
   "source": [
    "df.shape"
   ]
  },
  {
   "cell_type": "code",
   "execution_count": 19,
   "id": "featured-british",
   "metadata": {},
   "outputs": [],
   "source": [
    "from disease_type import plot_disease, group_disease_id\n",
    "df_disease_group = pd.read_csv('./bbk_codes/disease_code_grouped.csv')"
   ]
  },
  {
   "cell_type": "code",
   "execution_count": 20,
   "id": "accessory-framework",
   "metadata": {},
   "outputs": [],
   "source": [
    "# plot disease numbers\n",
    "# visits_ls = [2]\n",
    "# plot_disease(df, df_disease_group, visits=visits_ls, save_plot=False)"
   ]
  },
  {
   "cell_type": "code",
   "execution_count": 21,
   "id": "daily-scientist",
   "metadata": {},
   "outputs": [],
   "source": [
    "def extract_visit(df, visit=None):\n",
    "    \"\"\"extract visit\"\"\"\n",
    "    # slice reported age at visit\n",
    "    df_d = df[[col for col in df.columns if str(21003) in col]]\n",
    "    df_d = pd.concat([df['eid'], df_d], axis=1)\n",
    "    return df_d"
   ]
  },
  {
   "cell_type": "code",
   "execution_count": 22,
   "id": "written-living",
   "metadata": {},
   "outputs": [],
   "source": [
    "dfd = extract_visit(df)"
   ]
  },
  {
   "cell_type": "code",
   "execution_count": 23,
   "id": "popular-authority",
   "metadata": {},
   "outputs": [
    {
     "data": {
      "text/plain": [
       "eid              0\n",
       "21003-0.0        0\n",
       "21003-1.0    12481\n",
       "21003-2.0        0\n",
       "21003-3.0    13686\n",
       "dtype: int64"
      ]
     },
     "execution_count": 23,
     "metadata": {},
     "output_type": "execute_result"
    }
   ],
   "source": [
    "dfd.isna().sum()"
   ]
  },
  {
   "cell_type": "markdown",
   "id": "found-petersburg",
   "metadata": {},
   "source": [
    "#### all controls has visit0 and 2"
   ]
  },
  {
   "cell_type": "code",
   "execution_count": 24,
   "id": "loaded-bryan",
   "metadata": {},
   "outputs": [
    {
     "data": {
      "text/plain": [
       "Index(['eid', '21003-0.0', '21003-1.0', '21003-2.0', '21003-3.0'], dtype='object')"
      ]
     },
     "execution_count": 24,
     "metadata": {},
     "output_type": "execute_result"
    }
   ],
   "source": [
    "dfd.columns"
   ]
  },
  {
   "cell_type": "code",
   "execution_count": 25,
   "id": "smoking-value",
   "metadata": {},
   "outputs": [
    {
     "data": {
      "text/plain": [
       "<AxesSubplot:ylabel='Frequency'>"
      ]
     },
     "execution_count": 25,
     "metadata": {},
     "output_type": "execute_result"
    },
    {
     "data": {
      "image/png": "[encoded data removed]",
      "text/plain": [
       "<Figure size 432x288 with 1 Axes>"
      ]
     },
     "metadata": {
      "needs_background": "light"
     },
     "output_type": "display_data"
    }
   ],
   "source": [
    "dfd['21003-0.0'].plot(kind='hist')"
   ]
  },
  {
   "cell_type": "code",
   "execution_count": 26,
   "id": "other-welsh",
   "metadata": {},
   "outputs": [
    {
     "data": {
      "text/plain": [
       "<AxesSubplot:ylabel='Frequency'>"
      ]
     },
     "execution_count": 26,
     "metadata": {},
     "output_type": "execute_result"
    },
    {
     "data": {
      "image/png": "[encoded data removed]",
      "text/plain": [
       "<Figure size 432x288 with 1 Axes>"
      ]
     },
     "metadata": {
      "needs_background": "light"
     },
     "output_type": "display_data"
    }
   ],
   "source": [
    "dfd['21003-2.0'].plot(kind='hist')"
   ]
  },
  {
   "cell_type": "code",
   "execution_count": 27,
   "id": "after-elevation",
   "metadata": {},
   "outputs": [
    {
     "data": {
      "text/plain": [
       "<AxesSubplot:ylabel='Frequency'>"
      ]
     },
     "execution_count": 27,
     "metadata": {},
     "output_type": "execute_result"
    },
    {
     "data": {
      "image/png": "[encoded data removed]",
      "text/plain": [
       "<Figure size 432x288 with 1 Axes>"
      ]
     },
     "metadata": {
      "needs_background": "light"
     },
     "output_type": "display_data"
    }
   ],
   "source": [
    "dfd_diff = dfd['21003-2.0']-dfd['21003-0.0']\n",
    "dfd_diff.plot(kind='hist')"
   ]
  },
  {
   "cell_type": "markdown",
   "id": "thermal-shade",
   "metadata": {},
   "source": [
    "#### extract age/sex match control to disease group"
   ]
  },
  {
   "cell_type": "code",
   "execution_count": 30,
   "id": "direct-audit",
   "metadata": {},
   "outputs": [
    {
     "name": "stderr",
     "output_type": "stream",
     "text": [
      "/home/fs0/syzhang/.conda/envs/biobank/lib/python3.9/site-packages/IPython/core/interactiveshell.py:3165: DtypeWarning: Columns (2446,2447,2448,2449,2450,2451,2452,2453,2454,2455,2456,2457,2458,2459,2460,2461,2462,2463,2464,2465,2500,2501,2502,2503,2504,2505,2506,2507,2508,2509,2561,2562,2563,2564,2565,2566,2567,2568,2569,2570,2571,2572,2573,2574,2575,2576,2577,2578,2579,2580,2581,2582,2583,2584,2585,2586,2587,2588,2589,2590,2591,2592,2593,2594,2595,2596,2597,2598,2599,2600,2601,2602,2603,2604,2605,2606,2607,2608,2609,2610,2611,2612,2613,2614,2615,2616,2617,2618,2619,2620,2621,2622,2623,2624,2625,2626,2627,2628,2629,2740,2741,2742,2743,2744,2745,2746,2747,2748,2751,2821,2822,2823,2824,2825,2826,2827,2828,2829,2830,2831,2832,2833,2834,2835,2836,2837,2838,2839,2840,2841,2842,2843,2844,2845,2846,2847,2848,2849,2850,2851,2852,2853,2854,2855,2856,2857,2858,2859,2860,2861,2862,2863,2864,2865,2866,2867,2868,2869,2870,2871,2872,2873,2874,2875,2876,2877,2878,2879,2880,2881,2882,2883,2884,2885,2886,2887,2888,2889,3002,3003,3004,3005,3006,3007,3008,3009,3010,3011) have mixed types.Specify dtype option on import or set low_memory=False.\n",
      "  has_raised = await self.run_ast_nodes(code_ast.body, cell_name,\n"
     ]
    }
   ],
   "source": [
    "# load pain group\n",
    "dfp = pd.read_csv(os.path.join('..', 'funpack_cfg', 'qsidp_subjs_disease_visit2_extended.tsv'), sep='\\t')"
   ]
  },
  {
   "cell_type": "code",
   "execution_count": 31,
   "id": "essential-timer",
   "metadata": {},
   "outputs": [
    {
     "data": {
      "text/plain": [
       "(5047, 3797)"
      ]
     },
     "execution_count": 31,
     "metadata": {},
     "output_type": "execute_result"
    }
   ],
   "source": [
    "dfp.shape"
   ]
  },
  {
   "cell_type": "code",
   "execution_count": 36,
   "id": "associate-quality",
   "metadata": {},
   "outputs": [],
   "source": [
    "from clean_questions import extract_qs, load_qscode, exclude_multidisease, disease_label"
   ]
  },
  {
   "cell_type": "code",
   "execution_count": 38,
   "id": "ancient-empty",
   "metadata": {},
   "outputs": [],
   "source": [
    "# load disease\n",
    "df_disease_label = disease_label(dfp, visits=[2], grouping='simplified')\n",
    "# downsample df\n",
    "df_qs = load_qscode(questionnaire='all', idp=None)\n",
    "# extract questionnaire of interest\n",
    "df_qs = extract_qs(dfp, df_questionnaire=df_qs, visits=[2])\n",
    "# exclude multi diseases subjects\n",
    "df_exclude, df_label_exclude = exclude_multidisease(df_qs, df_disease_label)"
   ]
  },
  {
   "cell_type": "code",
   "execution_count": 40,
   "id": "consolidated-balloon",
   "metadata": {},
   "outputs": [
    {
     "data": {
      "text/plain": [
       "(4380, 119)"
      ]
     },
     "execution_count": 40,
     "metadata": {},
     "output_type": "execute_result"
    }
   ],
   "source": [
    "df_exclude.shape"
   ]
  },
  {
   "cell_type": "code",
   "execution_count": 47,
   "id": "russian-grounds",
   "metadata": {},
   "outputs": [],
   "source": [
    "dfp.set_index('eid', inplace=True)"
   ]
  },
  {
   "cell_type": "code",
   "execution_count": 48,
   "id": "metropolitan-probe",
   "metadata": {},
   "outputs": [],
   "source": [
    "dfp['eid'] = dfp.index"
   ]
  },
  {
   "cell_type": "code",
   "execution_count": 49,
   "id": "romantic-transmission",
   "metadata": {},
   "outputs": [],
   "source": [
    "dfp_single = dfp.loc[df_exclude.index]"
   ]
  },
  {
   "cell_type": "code",
   "execution_count": 100,
   "id": "inappropriate-missouri",
   "metadata": {},
   "outputs": [],
   "source": [
    "dfp_single_as = dfp_single[['31-0.0', '21003-2.0']]"
   ]
  },
  {
   "cell_type": "code",
   "execution_count": 102,
   "id": "residential-artwork",
   "metadata": {},
   "outputs": [],
   "source": [
    "dfp_single_as.reset_index(inplace=True)"
   ]
  },
  {
   "cell_type": "code",
   "execution_count": 103,
   "id": "promising-charger",
   "metadata": {},
   "outputs": [
    {
     "data": {
      "text/plain": [
       "<AxesSubplot:ylabel='Frequency'>"
      ]
     },
     "execution_count": 103,
     "metadata": {},
     "output_type": "execute_result"
    },
    {
     "data": {
      "image/png": "[encoded data removed]",
      "text/plain": [
       "<Figure size 432x288 with 1 Axes>"
      ]
     },
     "metadata": {
      "needs_background": "light"
     },
     "output_type": "display_data"
    }
   ],
   "source": [
    "dfp_single_as['31-0.0'].plot(kind='hist') # 0-female, 1-male"
   ]
  },
  {
   "cell_type": "code",
   "execution_count": 104,
   "id": "biblical-abraham",
   "metadata": {},
   "outputs": [
    {
     "data": {
      "text/plain": [
       "<AxesSubplot:ylabel='Frequency'>"
      ]
     },
     "execution_count": 104,
     "metadata": {},
     "output_type": "execute_result"
    },
    {
     "data": {
      "image/png": "[encoded data removed]",
      "text/plain": [
       "<Figure size 432x288 with 1 Axes>"
      ]
     },
     "metadata": {
      "needs_background": "light"
     },
     "output_type": "display_data"
    }
   ],
   "source": [
    "dfp_single_as['21003-2.0'].plot(kind='hist')"
   ]
  },
  {
   "cell_type": "code",
   "execution_count": 82,
   "id": "selective-description",
   "metadata": {},
   "outputs": [],
   "source": [
    "df_single_as = df[['31-0.0', '21003-2.0', 'eid']]"
   ]
  },
  {
   "cell_type": "code",
   "execution_count": 95,
   "id": "motivated-pocket",
   "metadata": {},
   "outputs": [
    {
     "data": {
      "text/plain": [
       "<bound method DataFrame.reset_index of          31-0.0  21003-2.0      eid\n",
       "eid                                \n",
       "1001416     1.0       67.0  1001416\n",
       "1002910     1.0       59.0  1002910\n",
       "1010078     1.0       62.0  1010078\n",
       "1013470     0.0       62.0  1013470\n",
       "1018785     0.0       55.0  1018785\n",
       "...         ...        ...      ...\n",
       "5697349     1.0       58.0  5697349\n",
       "5801899     0.0       58.0  5801899\n",
       "5802589     1.0       61.0  5802589\n",
       "5807269     0.0       51.0  5807269\n",
       "5878634     0.0       61.0  5878634\n",
       "\n",
       "[4380 rows x 3 columns]>"
      ]
     },
     "execution_count": 95,
     "metadata": {},
     "output_type": "execute_result"
    }
   ],
   "source": [
    "dfp_single_as"
   ]
  },
  {
   "cell_type": "code",
   "execution_count": 110,
   "id": "encouraging-montreal",
   "metadata": {},
   "outputs": [],
   "source": [
    "# look up each pain subject to find match in control\n",
    "# merge df\n",
    "merge_df = df_single_as.merge(dfp_single_as, how='outer', left_on='eid', right_on='eid',\n",
    "                   suffixes=('_control', '_disease'))"
   ]
  },
  {
   "cell_type": "code",
   "execution_count": 111,
   "id": "tired-istanbul",
   "metadata": {},
   "outputs": [
    {
     "data": {
      "text/html": [
       "<div>\n",
       "<style scoped>\n",
       "    .dataframe tbody tr th:only-of-type {\n",
       "        vertical-align: middle;\n",
       "    }\n",
       "\n",
       "    .dataframe tbody tr th {\n",
       "        vertical-align: top;\n",
       "    }\n",
       "\n",
       "    .dataframe thead th {\n",
       "        text-align: right;\n",
       "    }\n",
       "</style>\n",
       "<table border=\"1\" class=\"dataframe\">\n",
       "  <thead>\n",
       "    <tr style=\"text-align: right;\">\n",
       "      <th></th>\n",
       "      <th>31-0.0_control</th>\n",
       "      <th>21003-2.0_control</th>\n",
       "      <th>eid</th>\n",
       "      <th>31-0.0_disease</th>\n",
       "      <th>21003-2.0_disease</th>\n",
       "    </tr>\n",
       "  </thead>\n",
       "  <tbody>\n",
       "    <tr>\n",
       "      <th>0</th>\n",
       "      <td>1.0</td>\n",
       "      <td>74.0</td>\n",
       "      <td>1000108</td>\n",
       "      <td>NaN</td>\n",
       "      <td>NaN</td>\n",
       "    </tr>\n",
       "    <tr>\n",
       "      <th>1</th>\n",
       "      <td>0.0</td>\n",
       "      <td>52.0</td>\n",
       "      <td>1001121</td>\n",
       "      <td>NaN</td>\n",
       "      <td>NaN</td>\n",
       "    </tr>\n",
       "    <tr>\n",
       "      <th>2</th>\n",
       "      <td>1.0</td>\n",
       "      <td>49.0</td>\n",
       "      <td>1001143</td>\n",
       "      <td>NaN</td>\n",
       "      <td>NaN</td>\n",
       "    </tr>\n",
       "    <tr>\n",
       "      <th>3</th>\n",
       "      <td>0.0</td>\n",
       "      <td>61.0</td>\n",
       "      <td>1001192</td>\n",
       "      <td>NaN</td>\n",
       "      <td>NaN</td>\n",
       "    </tr>\n",
       "    <tr>\n",
       "      <th>4</th>\n",
       "      <td>1.0</td>\n",
       "      <td>69.0</td>\n",
       "      <td>1001289</td>\n",
       "      <td>NaN</td>\n",
       "      <td>NaN</td>\n",
       "    </tr>\n",
       "    <tr>\n",
       "      <th>...</th>\n",
       "      <td>...</td>\n",
       "      <td>...</td>\n",
       "      <td>...</td>\n",
       "      <td>...</td>\n",
       "      <td>...</td>\n",
       "    </tr>\n",
       "    <tr>\n",
       "      <th>19034</th>\n",
       "      <td>NaN</td>\n",
       "      <td>NaN</td>\n",
       "      <td>5697349</td>\n",
       "      <td>1.0</td>\n",
       "      <td>58.0</td>\n",
       "    </tr>\n",
       "    <tr>\n",
       "      <th>19035</th>\n",
       "      <td>NaN</td>\n",
       "      <td>NaN</td>\n",
       "      <td>5801899</td>\n",
       "      <td>0.0</td>\n",
       "      <td>58.0</td>\n",
       "    </tr>\n",
       "    <tr>\n",
       "      <th>19036</th>\n",
       "      <td>NaN</td>\n",
       "      <td>NaN</td>\n",
       "      <td>5802589</td>\n",
       "      <td>1.0</td>\n",
       "      <td>61.0</td>\n",
       "    </tr>\n",
       "    <tr>\n",
       "      <th>19037</th>\n",
       "      <td>NaN</td>\n",
       "      <td>NaN</td>\n",
       "      <td>5807269</td>\n",
       "      <td>0.0</td>\n",
       "      <td>51.0</td>\n",
       "    </tr>\n",
       "    <tr>\n",
       "      <th>19038</th>\n",
       "      <td>NaN</td>\n",
       "      <td>NaN</td>\n",
       "      <td>5878634</td>\n",
       "      <td>0.0</td>\n",
       "      <td>61.0</td>\n",
       "    </tr>\n",
       "  </tbody>\n",
       "</table>\n",
       "<p>19039 rows × 5 columns</p>\n",
       "</div>"
      ],
      "text/plain": [
       "       31-0.0_control  21003-2.0_control      eid  31-0.0_disease  \\\n",
       "0                 1.0               74.0  1000108             NaN   \n",
       "1                 0.0               52.0  1001121             NaN   \n",
       "2                 1.0               49.0  1001143             NaN   \n",
       "3                 0.0               61.0  1001192             NaN   \n",
       "4                 1.0               69.0  1001289             NaN   \n",
       "...               ...                ...      ...             ...   \n",
       "19034             NaN                NaN  5697349             1.0   \n",
       "19035             NaN                NaN  5801899             0.0   \n",
       "19036             NaN                NaN  5802589             1.0   \n",
       "19037             NaN                NaN  5807269             0.0   \n",
       "19038             NaN                NaN  5878634             0.0   \n",
       "\n",
       "       21003-2.0_disease  \n",
       "0                    NaN  \n",
       "1                    NaN  \n",
       "2                    NaN  \n",
       "3                    NaN  \n",
       "4                    NaN  \n",
       "...                  ...  \n",
       "19034               58.0  \n",
       "19035               58.0  \n",
       "19036               61.0  \n",
       "19037               51.0  \n",
       "19038               61.0  \n",
       "\n",
       "[19039 rows x 5 columns]"
      ]
     },
     "execution_count": 111,
     "metadata": {},
     "output_type": "execute_result"
    }
   ],
   "source": [
    "merge_df"
   ]
  },
  {
   "cell_type": "code",
   "execution_count": 112,
   "id": "color-talent",
   "metadata": {},
   "outputs": [
    {
     "data": {
      "text/plain": [
       "31-0.0_control        4380\n",
       "21003-2.0_control     4380\n",
       "eid                      0\n",
       "31-0.0_disease       14659\n",
       "21003-2.0_disease    14659\n",
       "dtype: int64"
      ]
     },
     "execution_count": 112,
     "metadata": {},
     "output_type": "execute_result"
    }
   ],
   "source": [
    "merge_df.isna().sum()"
   ]
  },
  {
   "cell_type": "code",
   "execution_count": 118,
   "id": "republican-merchandise",
   "metadata": {
    "collapsed": true,
    "jupyter": {
     "outputs_hidden": true
    },
    "tags": []
   },
   "outputs": [
    {
     "ename": "KeyboardInterrupt",
     "evalue": "",
     "output_type": "error",
     "traceback": [
      "\u001b[0;31m---------------------------------------------------------------------------\u001b[0m",
      "\u001b[0;31mKeyboardInterrupt\u001b[0m                         Traceback (most recent call last)",
      "\u001b[0;32m<ipython-input-118-28370a32b6f9>\u001b[0m in \u001b[0;36m<module>\u001b[0;34m\u001b[0m\n\u001b[1;32m      3\u001b[0m     \u001b[0mflag\u001b[0m \u001b[0;34m=\u001b[0m \u001b[0;36m0\u001b[0m\u001b[0;34m\u001b[0m\u001b[0;34m\u001b[0m\u001b[0m\n\u001b[1;32m      4\u001b[0m     \u001b[0;32mfor\u001b[0m \u001b[0mic\u001b[0m\u001b[0;34m,\u001b[0m \u001b[0mrc\u001b[0m \u001b[0;32min\u001b[0m \u001b[0mdf_single_as\u001b[0m\u001b[0;34m.\u001b[0m\u001b[0miterrows\u001b[0m\u001b[0;34m(\u001b[0m\u001b[0;34m)\u001b[0m\u001b[0;34m:\u001b[0m\u001b[0;34m\u001b[0m\u001b[0;34m\u001b[0m\u001b[0m\n\u001b[0;32m----> 5\u001b[0;31m         \u001b[0;32mif\u001b[0m \u001b[0mrp\u001b[0m\u001b[0;34m[\u001b[0m\u001b[0;34m'31-0.0'\u001b[0m\u001b[0;34m]\u001b[0m\u001b[0;34m==\u001b[0m\u001b[0mrc\u001b[0m\u001b[0;34m[\u001b[0m\u001b[0;34m'31-0.0'\u001b[0m\u001b[0;34m]\u001b[0m \u001b[0;32mand\u001b[0m \u001b[0mrp\u001b[0m\u001b[0;34m[\u001b[0m\u001b[0;34m'21003-2.0'\u001b[0m\u001b[0;34m]\u001b[0m\u001b[0;34m==\u001b[0m\u001b[0mrc\u001b[0m\u001b[0;34m[\u001b[0m\u001b[0;34m'21003-2.0'\u001b[0m\u001b[0;34m]\u001b[0m\u001b[0;34m:\u001b[0m\u001b[0;34m\u001b[0m\u001b[0;34m\u001b[0m\u001b[0m\n\u001b[0m\u001b[1;32m      6\u001b[0m             \u001b[0;32mif\u001b[0m \u001b[0mrc\u001b[0m\u001b[0;34m[\u001b[0m\u001b[0;34m'eid'\u001b[0m\u001b[0;34m]\u001b[0m \u001b[0;32mnot\u001b[0m \u001b[0;32min\u001b[0m \u001b[0mmatched\u001b[0m\u001b[0;34m:\u001b[0m\u001b[0;34m\u001b[0m\u001b[0;34m\u001b[0m\u001b[0m\n\u001b[1;32m      7\u001b[0m \u001b[0;31m#                 print(rc[['31-0.0', '21003-2.0']])\u001b[0m\u001b[0;34m\u001b[0m\u001b[0;34m\u001b[0m\u001b[0;34m\u001b[0m\u001b[0m\n",
      "\u001b[0;32m~/.conda/envs/biobank/lib/python3.9/site-packages/pandas/core/series.py\u001b[0m in \u001b[0;36m__getitem__\u001b[0;34m(self, key)\u001b[0m\n\u001b[1;32m    851\u001b[0m \u001b[0;34m\u001b[0m\u001b[0m\n\u001b[1;32m    852\u001b[0m         \u001b[0;32melif\u001b[0m \u001b[0mkey_is_scalar\u001b[0m\u001b[0;34m:\u001b[0m\u001b[0;34m\u001b[0m\u001b[0;34m\u001b[0m\u001b[0m\n\u001b[0;32m--> 853\u001b[0;31m             \u001b[0;32mreturn\u001b[0m \u001b[0mself\u001b[0m\u001b[0;34m.\u001b[0m\u001b[0m_get_value\u001b[0m\u001b[0;34m(\u001b[0m\u001b[0mkey\u001b[0m\u001b[0;34m)\u001b[0m\u001b[0;34m\u001b[0m\u001b[0;34m\u001b[0m\u001b[0m\n\u001b[0m\u001b[1;32m    854\u001b[0m \u001b[0;34m\u001b[0m\u001b[0m\n\u001b[1;32m    855\u001b[0m         \u001b[0;32mif\u001b[0m \u001b[0mis_hashable\u001b[0m\u001b[0;34m(\u001b[0m\u001b[0mkey\u001b[0m\u001b[0;34m)\u001b[0m\u001b[0;34m:\u001b[0m\u001b[0;34m\u001b[0m\u001b[0;34m\u001b[0m\u001b[0m\n",
      "\u001b[0;32m~/.conda/envs/biobank/lib/python3.9/site-packages/pandas/core/series.py\u001b[0m in \u001b[0;36m_get_value\u001b[0;34m(self, label, takeable)\u001b[0m\n\u001b[1;32m    942\u001b[0m             \u001b[0;32mreturn\u001b[0m \u001b[0mnp\u001b[0m\u001b[0;34m.\u001b[0m\u001b[0masarray\u001b[0m\u001b[0;34m(\u001b[0m\u001b[0mself\u001b[0m\u001b[0;34m.\u001b[0m\u001b[0m_values\u001b[0m\u001b[0;34m[\u001b[0m\u001b[0mindexer\u001b[0m\u001b[0;34m]\u001b[0m\u001b[0;34m)\u001b[0m\u001b[0;34m\u001b[0m\u001b[0;34m\u001b[0m\u001b[0m\n\u001b[1;32m    943\u001b[0m \u001b[0;34m\u001b[0m\u001b[0m\n\u001b[0;32m--> 944\u001b[0;31m     \u001b[0;32mdef\u001b[0m \u001b[0m_get_value\u001b[0m\u001b[0;34m(\u001b[0m\u001b[0mself\u001b[0m\u001b[0;34m,\u001b[0m \u001b[0mlabel\u001b[0m\u001b[0;34m,\u001b[0m \u001b[0mtakeable\u001b[0m\u001b[0;34m:\u001b[0m \u001b[0mbool\u001b[0m \u001b[0;34m=\u001b[0m \u001b[0;32mFalse\u001b[0m\u001b[0;34m)\u001b[0m\u001b[0;34m:\u001b[0m\u001b[0;34m\u001b[0m\u001b[0;34m\u001b[0m\u001b[0m\n\u001b[0m\u001b[1;32m    945\u001b[0m         \"\"\"\n\u001b[1;32m    946\u001b[0m         \u001b[0mQuickly\u001b[0m \u001b[0mretrieve\u001b[0m \u001b[0msingle\u001b[0m \u001b[0mvalue\u001b[0m \u001b[0mat\u001b[0m \u001b[0mpassed\u001b[0m \u001b[0mindex\u001b[0m \u001b[0mlabel\u001b[0m\u001b[0;34m.\u001b[0m\u001b[0;34m\u001b[0m\u001b[0;34m\u001b[0m\u001b[0m\n",
      "\u001b[0;31mKeyboardInterrupt\u001b[0m: "
     ]
    }
   ],
   "source": [
    "matched = []\n",
    "for ip, rp in dfp_single_as.iterrows():\n",
    "    flag = 0\n",
    "    for ic, rc in df_single_as.iterrows():\n",
    "        if rp['31-0.0']==rc['31-0.0'] and rp['21003-2.0']==rc['21003-2.0']:\n",
    "            if rc['eid'] not in matched:\n",
    "                matched.append(rc['eid'])\n",
    "                break"
   ]
  },
  {
   "cell_type": "code",
   "execution_count": 120,
   "id": "stable-slovakia",
   "metadata": {},
   "outputs": [
    {
     "data": {
      "text/plain": [
       "2251"
      ]
     },
     "execution_count": 120,
     "metadata": {},
     "output_type": "execute_result"
    }
   ],
   "source": [
    "len(matched)"
   ]
  },
  {
   "cell_type": "markdown",
   "id": "absent-workplace",
   "metadata": {},
   "source": [
    "#### extract digestive qs from controls"
   ]
  },
  {
   "cell_type": "code",
   "execution_count": 11,
   "id": "verbal-contrast",
   "metadata": {},
   "outputs": [],
   "source": [
    "from clean_questions import extract_qs, load_qscode\n",
    "qs = load_qscode(questionnaire='digestive', idp=None)\n",
    "df_qs = extract_qs(df, df_questionnaire=qs, visits=[2])"
   ]
  },
  {
   "cell_type": "code",
   "execution_count": 12,
   "id": "bizarre-equation",
   "metadata": {},
   "outputs": [],
   "source": [
    "df_qs['53-2.0'] = df['53-2.0']"
   ]
  },
  {
   "cell_type": "code",
   "execution_count": 13,
   "id": "cathedral-links",
   "metadata": {},
   "outputs": [],
   "source": [
    "df_qs.rename(columns={'53-2.0':'imaging_date', '21023-0.0':'digest_date'}, inplace=True)"
   ]
  },
  {
   "cell_type": "code",
   "execution_count": 14,
   "id": "stopped-minimum",
   "metadata": {},
   "outputs": [],
   "source": [
    "# to dt\n",
    "df_dt = pd.to_datetime(df_qs['digest_date'])\n",
    "df_it = pd.to_datetime(df_qs['imaging_date'])\n",
    "# calcualte diff\n",
    "diff = (df_dt-df_it).values\n",
    "dff = diff.astype('int64')"
   ]
  },
  {
   "cell_type": "code",
   "execution_count": 15,
   "id": "decent-sandwich",
   "metadata": {},
   "outputs": [
    {
     "data": {
      "text/plain": [
       "0.26952725288218843"
      ]
     },
     "execution_count": 15,
     "metadata": {},
     "output_type": "execute_result"
    }
   ],
   "source": [
    "# those finished digestive after imaging\n",
    "sum(dff>0)/len(dff)"
   ]
  },
  {
   "cell_type": "code",
   "execution_count": 41,
   "id": "olympic-family",
   "metadata": {},
   "outputs": [],
   "source": [
    "df_qualify = df_qs.iloc[dff>0]"
   ]
  },
  {
   "cell_type": "code",
   "execution_count": 42,
   "id": "sacred-optics",
   "metadata": {},
   "outputs": [
    {
     "data": {
      "text/plain": [
       "(3951, 12)"
      ]
     },
     "execution_count": 42,
     "metadata": {},
     "output_type": "execute_result"
    }
   ],
   "source": [
    "df_qualify.shape"
   ]
  },
  {
   "cell_type": "code",
   "execution_count": 45,
   "id": "appreciated-india",
   "metadata": {},
   "outputs": [],
   "source": [
    "df_qualify['eid'].to_csv('../funpack_cfg/subjs_digestive_after_imaging.csv', header=None, index=None)"
   ]
  },
  {
   "cell_type": "code",
   "execution_count": 18,
   "id": "adopted-development",
   "metadata": {},
   "outputs": [],
   "source": [
    "dfq = df_qualify[['21027-0.0', '21048-0.0', 'eid', '21052-0.0',\n",
    "       '21051-0.0', '21049-0.0', '21025-0.0', '21036-0.0', '21057-0.0',\n",
    "       '21035-0.0']]"
   ]
  },
  {
   "cell_type": "code",
   "execution_count": 19,
   "id": "derived-tonight",
   "metadata": {},
   "outputs": [
    {
     "data": {
      "text/plain": [
       "669"
      ]
     },
     "execution_count": 19,
     "metadata": {},
     "output_type": "execute_result"
    }
   ],
   "source": [
    "dfq.dropna().shape[0]"
   ]
  },
  {
   "cell_type": "code",
   "execution_count": 20,
   "id": "alleged-safety",
   "metadata": {},
   "outputs": [
    {
     "data": {
      "text/plain": [
       "3951"
      ]
     },
     "execution_count": 20,
     "metadata": {},
     "output_type": "execute_result"
    }
   ],
   "source": [
    "df_qualify.shape[0]"
   ]
  },
  {
   "cell_type": "code",
   "execution_count": 21,
   "id": "clear-throat",
   "metadata": {},
   "outputs": [
    {
     "data": {
      "text/plain": [
       "0.16932422171602127"
      ]
     },
     "execution_count": 21,
     "metadata": {},
     "output_type": "execute_result"
    }
   ],
   "source": [
    "669/3951"
   ]
  },
  {
   "cell_type": "code",
   "execution_count": 22,
   "id": "latter-directory",
   "metadata": {},
   "outputs": [],
   "source": [
    "dfqd = dfq.dropna()"
   ]
  },
  {
   "cell_type": "code",
   "execution_count": 23,
   "id": "stunning-renaissance",
   "metadata": {},
   "outputs": [
    {
     "data": {
      "text/html": [
       "<div>\n",
       "<style scoped>\n",
       "    .dataframe tbody tr th:only-of-type {\n",
       "        vertical-align: middle;\n",
       "    }\n",
       "\n",
       "    .dataframe tbody tr th {\n",
       "        vertical-align: top;\n",
       "    }\n",
       "\n",
       "    .dataframe thead th {\n",
       "        text-align: right;\n",
       "    }\n",
       "</style>\n",
       "<table border=\"1\" class=\"dataframe\">\n",
       "  <thead>\n",
       "    <tr style=\"text-align: right;\">\n",
       "      <th></th>\n",
       "      <th>21027-0.0</th>\n",
       "      <th>21048-0.0</th>\n",
       "      <th>eid</th>\n",
       "      <th>21052-0.0</th>\n",
       "      <th>21051-0.0</th>\n",
       "      <th>21049-0.0</th>\n",
       "      <th>21025-0.0</th>\n",
       "      <th>21036-0.0</th>\n",
       "      <th>21057-0.0</th>\n",
       "      <th>21035-0.0</th>\n",
       "    </tr>\n",
       "  </thead>\n",
       "  <tbody>\n",
       "    <tr>\n",
       "      <th>12</th>\n",
       "      <td>0.0</td>\n",
       "      <td>-600.0</td>\n",
       "      <td>1003203</td>\n",
       "      <td>-600.0</td>\n",
       "      <td>-600.0</td>\n",
       "      <td>-600.0</td>\n",
       "      <td>4.0</td>\n",
       "      <td>3.0</td>\n",
       "      <td>-600.0</td>\n",
       "      <td>1.0</td>\n",
       "    </tr>\n",
       "    <tr>\n",
       "      <th>14</th>\n",
       "      <td>1.0</td>\n",
       "      <td>-600.0</td>\n",
       "      <td>1003357</td>\n",
       "      <td>-600.0</td>\n",
       "      <td>-600.0</td>\n",
       "      <td>-601.0</td>\n",
       "      <td>3.0</td>\n",
       "      <td>2.0</td>\n",
       "      <td>-818.0</td>\n",
       "      <td>1.0</td>\n",
       "    </tr>\n",
       "    <tr>\n",
       "      <th>41</th>\n",
       "      <td>0.0</td>\n",
       "      <td>-600.0</td>\n",
       "      <td>1012615</td>\n",
       "      <td>-600.0</td>\n",
       "      <td>-600.0</td>\n",
       "      <td>-601.0</td>\n",
       "      <td>3.0</td>\n",
       "      <td>3.0</td>\n",
       "      <td>-313.0</td>\n",
       "      <td>1.0</td>\n",
       "    </tr>\n",
       "    <tr>\n",
       "      <th>58</th>\n",
       "      <td>0.0</td>\n",
       "      <td>-600.0</td>\n",
       "      <td>1020059</td>\n",
       "      <td>-600.0</td>\n",
       "      <td>-601.0</td>\n",
       "      <td>-600.0</td>\n",
       "      <td>3.0</td>\n",
       "      <td>8.0</td>\n",
       "      <td>-600.0</td>\n",
       "      <td>1.0</td>\n",
       "    </tr>\n",
       "    <tr>\n",
       "      <th>88</th>\n",
       "      <td>0.0</td>\n",
       "      <td>-600.0</td>\n",
       "      <td>1028995</td>\n",
       "      <td>-600.0</td>\n",
       "      <td>-600.0</td>\n",
       "      <td>-600.0</td>\n",
       "      <td>2.0</td>\n",
       "      <td>6.0</td>\n",
       "      <td>-600.0</td>\n",
       "      <td>1.0</td>\n",
       "    </tr>\n",
       "    <tr>\n",
       "      <th>...</th>\n",
       "      <td>...</td>\n",
       "      <td>...</td>\n",
       "      <td>...</td>\n",
       "      <td>...</td>\n",
       "      <td>...</td>\n",
       "      <td>...</td>\n",
       "      <td>...</td>\n",
       "      <td>...</td>\n",
       "      <td>...</td>\n",
       "      <td>...</td>\n",
       "    </tr>\n",
       "    <tr>\n",
       "      <th>14459</th>\n",
       "      <td>0.0</td>\n",
       "      <td>-600.0</td>\n",
       "      <td>5960820</td>\n",
       "      <td>-601.0</td>\n",
       "      <td>-600.0</td>\n",
       "      <td>-600.0</td>\n",
       "      <td>3.0</td>\n",
       "      <td>2.0</td>\n",
       "      <td>-600.0</td>\n",
       "      <td>1.0</td>\n",
       "    </tr>\n",
       "    <tr>\n",
       "      <th>14484</th>\n",
       "      <td>1.0</td>\n",
       "      <td>-600.0</td>\n",
       "      <td>5968078</td>\n",
       "      <td>-600.0</td>\n",
       "      <td>-600.0</td>\n",
       "      <td>-600.0</td>\n",
       "      <td>5.0</td>\n",
       "      <td>5.0</td>\n",
       "      <td>-600.0</td>\n",
       "      <td>1.0</td>\n",
       "    </tr>\n",
       "    <tr>\n",
       "      <th>14495</th>\n",
       "      <td>1.0</td>\n",
       "      <td>-600.0</td>\n",
       "      <td>5971893</td>\n",
       "      <td>-600.0</td>\n",
       "      <td>-600.0</td>\n",
       "      <td>-601.0</td>\n",
       "      <td>3.0</td>\n",
       "      <td>7.0</td>\n",
       "      <td>-313.0</td>\n",
       "      <td>1.0</td>\n",
       "    </tr>\n",
       "    <tr>\n",
       "      <th>14625</th>\n",
       "      <td>1.0</td>\n",
       "      <td>-600.0</td>\n",
       "      <td>6014473</td>\n",
       "      <td>-600.0</td>\n",
       "      <td>-600.0</td>\n",
       "      <td>-600.0</td>\n",
       "      <td>3.0</td>\n",
       "      <td>5.0</td>\n",
       "      <td>-313.0</td>\n",
       "      <td>1.0</td>\n",
       "    </tr>\n",
       "    <tr>\n",
       "      <th>14628</th>\n",
       "      <td>0.0</td>\n",
       "      <td>-600.0</td>\n",
       "      <td>6015081</td>\n",
       "      <td>-600.0</td>\n",
       "      <td>-600.0</td>\n",
       "      <td>-600.0</td>\n",
       "      <td>2.0</td>\n",
       "      <td>5.0</td>\n",
       "      <td>-600.0</td>\n",
       "      <td>1.0</td>\n",
       "    </tr>\n",
       "  </tbody>\n",
       "</table>\n",
       "<p>298 rows × 10 columns</p>\n",
       "</div>"
      ],
      "text/plain": [
       "       21027-0.0  21048-0.0      eid  21052-0.0  21051-0.0  21049-0.0  \\\n",
       "12           0.0     -600.0  1003203     -600.0     -600.0     -600.0   \n",
       "14           1.0     -600.0  1003357     -600.0     -600.0     -601.0   \n",
       "41           0.0     -600.0  1012615     -600.0     -600.0     -601.0   \n",
       "58           0.0     -600.0  1020059     -600.0     -601.0     -600.0   \n",
       "88           0.0     -600.0  1028995     -600.0     -600.0     -600.0   \n",
       "...          ...        ...      ...        ...        ...        ...   \n",
       "14459        0.0     -600.0  5960820     -601.0     -600.0     -600.0   \n",
       "14484        1.0     -600.0  5968078     -600.0     -600.0     -600.0   \n",
       "14495        1.0     -600.0  5971893     -600.0     -600.0     -601.0   \n",
       "14625        1.0     -600.0  6014473     -600.0     -600.0     -600.0   \n",
       "14628        0.0     -600.0  6015081     -600.0     -600.0     -600.0   \n",
       "\n",
       "       21025-0.0  21036-0.0  21057-0.0  21035-0.0  \n",
       "12           4.0        3.0     -600.0        1.0  \n",
       "14           3.0        2.0     -818.0        1.0  \n",
       "41           3.0        3.0     -313.0        1.0  \n",
       "58           3.0        8.0     -600.0        1.0  \n",
       "88           2.0        6.0     -600.0        1.0  \n",
       "...          ...        ...        ...        ...  \n",
       "14459        3.0        2.0     -600.0        1.0  \n",
       "14484        5.0        5.0     -600.0        1.0  \n",
       "14495        3.0        7.0     -313.0        1.0  \n",
       "14625        3.0        5.0     -313.0        1.0  \n",
       "14628        2.0        5.0     -600.0        1.0  \n",
       "\n",
       "[298 rows x 10 columns]"
      ]
     },
     "execution_count": 23,
     "metadata": {},
     "output_type": "execute_result"
    }
   ],
   "source": [
    "dfqd[dfqd['21048-0.0']==-600]"
   ]
  },
  {
   "cell_type": "code",
   "execution_count": 33,
   "id": "recreational-compilation",
   "metadata": {},
   "outputs": [],
   "source": [
    "# include bothered a little\n",
    "df_cut = df_qualify.loc[(df_qualify['21027-0.0']==1) | (df_qualify['21035-0.0']==1)\n",
    "              | (df_qualify['21048-0.0']!=-600) | (df_qualify['21052-0.0']!=-600)\n",
    "               | (df_qualify['21051-0.0']!=-600)  | (df_qualify['21049-0.0']!=-600)\n",
    "               | (df_qualify['21057-0.0']!=-600)]"
   ]
  },
  {
   "cell_type": "code",
   "execution_count": 34,
   "id": "funny-universal",
   "metadata": {},
   "outputs": [
    {
     "data": {
      "text/plain": [
       "(3372, 12)"
      ]
     },
     "execution_count": 34,
     "metadata": {},
     "output_type": "execute_result"
    }
   ],
   "source": [
    "df_cut.shape"
   ]
  },
  {
   "cell_type": "code",
   "execution_count": 100,
   "id": "reverse-berkeley",
   "metadata": {},
   "outputs": [],
   "source": [
    "# only include bothered a lot\n",
    "df_cut = df_qualify.loc[(df_qualify['21027-0.0']==1) | (df_qualify['21035-0.0']==1)\n",
    "              | (df_qualify['21048-0.0']==-602) | (df_qualify['21052-0.0']==-602)\n",
    "               | (df_qualify['21051-0.0']==-602)  | (df_qualify['21049-0.0']==-602)\n",
    "               | (df_qualify['21057-0.0']==-602)]"
   ]
  },
  {
   "cell_type": "code",
   "execution_count": 72,
   "id": "bridal-jerusalem",
   "metadata": {},
   "outputs": [],
   "source": [
    "# only include bothered a lot\n",
    "tmp = [(df_qualify['21027-0.0']==1) | (df_qualify['21035-0.0']==1)\n",
    "              | (df_qualify['21048-0.0']==-602) | (df_qualify['21052-0.0']==-602)\n",
    "               | (df_qualify['21051-0.0']==-602)  | (df_qualify['21049-0.0']==-602)\n",
    "               | (df_qualify['21057-0.0']==-602)][0]"
   ]
  },
  {
   "cell_type": "code",
   "execution_count": 75,
   "id": "fitting-niger",
   "metadata": {},
   "outputs": [
    {
     "data": {
      "text/plain": [
       "eid\n",
       "1001143    1\n",
       "1002039    0\n",
       "1002393    1\n",
       "1002884    1\n",
       "1003045    0\n",
       "          ..\n",
       "6020171    0\n",
       "6020209    1\n",
       "6022107    0\n",
       "6023724    0\n",
       "6023887    1\n",
       "Length: 3951, dtype: int64"
      ]
     },
     "execution_count": 75,
     "metadata": {},
     "output_type": "execute_result"
    }
   ],
   "source": [
    "tmp.astype(int)"
   ]
  },
  {
   "cell_type": "code",
   "execution_count": 62,
   "id": "juvenile-archives",
   "metadata": {},
   "outputs": [
    {
     "data": {
      "text/plain": [
       "(1235, 11)"
      ]
     },
     "execution_count": 62,
     "metadata": {},
     "output_type": "execute_result"
    }
   ],
   "source": [
    "df_cut.shape"
   ]
  },
  {
   "cell_type": "code",
   "execution_count": 47,
   "id": "paperback-spank",
   "metadata": {},
   "outputs": [],
   "source": [
    "df_cut.set_index('eid', inplace=True)"
   ]
  },
  {
   "cell_type": "code",
   "execution_count": 52,
   "id": "stuck-finding",
   "metadata": {},
   "outputs": [],
   "source": [
    "df_qualify.set_index('eid', inplace=True)"
   ]
  },
  {
   "cell_type": "code",
   "execution_count": 53,
   "id": "decent-juvenile",
   "metadata": {},
   "outputs": [],
   "source": [
    "ff = df_qualify.loc[df_cut.index]"
   ]
  },
  {
   "cell_type": "code",
   "execution_count": 60,
   "id": "superior-norman",
   "metadata": {},
   "outputs": [
    {
     "data": {
      "text/plain": [
       "False"
      ]
     },
     "execution_count": 60,
     "metadata": {},
     "output_type": "execute_result"
    }
   ],
   "source": [
    "df_cut.index.to_list() in df_qualify.index.to_list()"
   ]
  },
  {
   "cell_type": "code",
   "execution_count": 78,
   "id": "lesbian-bobby",
   "metadata": {},
   "outputs": [
    {
     "data": {
      "text/plain": [
       "0        3707.82\n",
       "1        5873.47\n",
       "2        3395.34\n",
       "3        3532.01\n",
       "4        4105.01\n",
       "          ...   \n",
       "14654    6539.13\n",
       "14655    3942.72\n",
       "14656    3743.67\n",
       "14657    3654.12\n",
       "14658    4075.38\n",
       "Name: 25811-2.0, Length: 14659, dtype: float64"
      ]
     },
     "execution_count": 78,
     "metadata": {},
     "output_type": "execute_result"
    }
   ],
   "source": [
    "df['25811-2.0']"
   ]
  },
  {
   "cell_type": "code",
   "execution_count": 82,
   "id": "welcome-digest",
   "metadata": {},
   "outputs": [
    {
     "data": {
      "text/plain": [
       "848"
      ]
     },
     "execution_count": 82,
     "metadata": {},
     "output_type": "execute_result"
    }
   ],
   "source": [
    "df['25488-2.0'].isna().sum()"
   ]
  },
  {
   "cell_type": "code",
   "execution_count": 91,
   "id": "religious-white",
   "metadata": {},
   "outputs": [
    {
     "data": {
      "text/plain": [
       "0        0.430498\n",
       "1        0.430462\n",
       "2        0.418746\n",
       "3        0.388881\n",
       "4        0.405593\n",
       "           ...   \n",
       "14654         NaN\n",
       "14655    0.364049\n",
       "14656    0.446413\n",
       "14657    0.400722\n",
       "14658    0.410239\n",
       "Name: 25489-2.0, Length: 14659, dtype: float64"
      ]
     },
     "execution_count": 91,
     "metadata": {},
     "output_type": "execute_result"
    }
   ],
   "source": [
    "df['25489-2.0']"
   ]
  },
  {
   "cell_type": "code",
   "execution_count": 92,
   "id": "precise-factor",
   "metadata": {},
   "outputs": [
    {
     "data": {
      "text/plain": [
       "0        0.363166\n",
       "1        0.421552\n",
       "2        0.451844\n",
       "3        0.377155\n",
       "4        0.352406\n",
       "           ...   \n",
       "14654         NaN\n",
       "14655    0.385815\n",
       "14656    0.378166\n",
       "14657    0.431482\n",
       "14658    0.421220\n",
       "Name: 25057-2.0, Length: 14659, dtype: float64"
      ]
     },
     "execution_count": 92,
     "metadata": {},
     "output_type": "execute_result"
    }
   ],
   "source": [
    "df['25057-2.0']"
   ]
  },
  {
   "cell_type": "code",
   "execution_count": 99,
   "id": "forward-savannah",
   "metadata": {},
   "outputs": [
    {
     "data": {
      "text/plain": [
       "False"
      ]
     },
     "execution_count": 99,
     "metadata": {},
     "output_type": "execute_result"
    }
   ],
   "source": [
    "'25761-' in df.columns"
   ]
  },
  {
   "cell_type": "code",
   "execution_count": null,
   "id": "occupied-chair",
   "metadata": {},
   "outputs": [],
   "source": []
  }
 ],
 "metadata": {
  "kernelspec": {
   "display_name": "Python 3",
   "language": "python",
   "name": "python3"
  },
  "language_info": {
   "codemirror_mode": {
    "name": "ipython",
    "version": 3
   },
   "file_extension": ".py",
   "mimetype": "text/x-python",
   "name": "python",
   "nbconvert_exporter": "python",
   "pygments_lexer": "ipython3",
   "version": "3.8.8"
  }
 },
 "nbformat": 4,
 "nbformat_minor": 5
}
